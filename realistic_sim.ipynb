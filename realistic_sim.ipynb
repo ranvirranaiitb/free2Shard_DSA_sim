{
 "cells": [
  {
   "cell_type": "code",
   "execution_count": 526,
   "metadata": {
    "collapsed": true
   },
   "outputs": [],
   "source": [
    "import numpy as np\n",
    "import matplotlib.pyplot as plt\n",
    "import matplotlib\n",
    "import scipy as sp\n",
    "from sympy.solvers import solve\n",
    "from sympy import Symbol\n",
    "from matplotlib.collections import LineCollection\n",
    "from matplotlib.colors import ListedColormap, BoundaryNorm\n",
    "import pickle"
   ]
  },
  {
   "cell_type": "code",
   "execution_count": 597,
   "metadata": {
    "collapsed": true
   },
   "outputs": [],
   "source": [
    "N=36\n",
    "K=6\n",
    "T=100000\n",
    "epoch_length = 100\n",
    "avg_rt_list = []\n",
    "rt_list = []\n",
    "avg_rte_list = []\n",
    "rte_list=[]\n",
    "boundary=1/2\n",
    "shard_in_set = []\n",
    "in_set = []\n",
    "distance_list = []\n",
    "trigger= 0\n",
    "trigger_threshold = 0.001\n",
    "beta=1\n",
    "r=np.log(K)\n",
    "l=1/2/K\n",
    "queue_len = np.zeros((K,T))\n",
    "S=min(N,K)\n",
    "b=0.1\n",
    "q = b/(1-2*b)\n",
    "latency_stats = []\n",
    "latency_queue = []\n",
    "for k in range(K):\n",
    "    latency_stats.append([])\n",
    "    latency_queue.append([])\n",
    "all_latency_stats = []\n",
    "\n",
    "E_s = 5\n",
    "backlog=np.zeros(K)\n",
    "max_capacity_scaleup = 2"
   ]
  },
  {
   "cell_type": "code",
   "execution_count": 598,
   "metadata": {},
   "outputs": [
    {
     "name": "stdout",
     "output_type": "stream",
     "text": [
      "2.75\n"
     ]
    }
   ],
   "source": [
    "target_tp_list = np.zeros((K))\n",
    "temp_sum=0.0\n",
    "for i in range(K):\n",
    "    temp_sum += 1.0/(int(i/5)+1)\n",
    "    target_tp_list[i]=(1.0/(int(i/5)+1))\n",
    "temp_norm = max(temp_sum*2/S,2)\n",
    "target_tp_list = (target_tp_list/temp_norm)\n",
    "if False:\n",
    "    for i in range(K):\n",
    "        target_tp_list[i]=1.0/2\n",
    "    target_tp_list = (target_tp_list)*(S/K)    \n",
    "if False:\n",
    "    for i in range(4,K):\n",
    "        target_tp_list[i] = 0.02\n",
    "    for i in range(4):\n",
    "        target_tp_list[i] = 0.5\n",
    "scale_down_factor = 0.5\n",
    "queue_target_list = 100*scale_down_factor*(target_tp_list)\n",
    "prev_total_mining_power = np.zeros(K)\n",
    "\n",
    "list0= []\n",
    "temp = list0[1:]\n",
    "#print(latency_queue[K-1])\n",
    "print(sum(target_tp_list))\n",
    "#print(target_tp_list)"
   ]
  },
  {
   "cell_type": "code",
   "execution_count": 599,
   "metadata": {
    "collapsed": true
   },
   "outputs": [],
   "source": [
    "def temp_division(n, d):\n",
    "    return n / d if d else 0\n",
    "\n",
    "def update_queue_len(inst_tp, t):\n",
    "    remove = 100*inst_tp\n",
    "    add = np.zeros((K))\n",
    "    for k in range(K):\n",
    "        add[k] = int(np.random.poisson(queue_target_list[k]))\n",
    "        for i in range(int(add[k])):\n",
    "            latency_queue[k].append(t)\n",
    "        temp_removed = latency_queue[k][0:int(remove[k])]\n",
    "        latency_queue[k] = latency_queue[k][int(remove[k]):]\n",
    "        for time in temp_removed:\n",
    "            latency_stats[k].append(t-time)\n",
    "            all_latency_stats.append(t-time)\n",
    "    diff = add - remove\n",
    "    queue_len[:,t] = queue_len[:,t-1] + diff\n",
    "    zero_vector = np.zeros((K))\n",
    "    queue_len[:,t] = np.maximum(queue_len[:,t],zero_vector)\n",
    "    return None\n",
    "\n",
    "def update_queue_len_real(inst_tp_real_honest,inst_tp_real_adversarial,t):\n",
    "    remove = 100*inst_tp_real_honest\n",
    "    global backlog\n",
    "    backlog = backlog + inst_tp_real_honest + inst_tp_real_adversarial - np.ones(K)*(1/scale_down_factor)\n",
    "    for k in range(K):\n",
    "        if backlog[k]>(1/scale_down_factor):\n",
    "            remove[k]=0\n",
    "        elif backlog[k]< 1/scale_down_factor - remove[k]/100:\n",
    "            pass\n",
    "        else:\n",
    "            remove[k] = 100*(1/scale_down_factor-backlog[k])\n",
    "    # Capacity constraint implemented\n",
    "    add = np.zeros((K))\n",
    "    for k in range(K):\n",
    "        add[k] = int(np.random.poisson(queue_target_list[k]))\n",
    "        for i in range(int(add[k])):\n",
    "            latency_queue[k].append(t)\n",
    "        temp_removed = latency_queue[k][0:int(remove[k])]\n",
    "        latency_queue[k] = latency_queue[k][int(remove[k]):]\n",
    "        for time in temp_removed:\n",
    "            latency_stats[k].append(t-time)\n",
    "            all_latency_stats.append(t-time)\n",
    "    diff = add - remove\n",
    "    queue_len[:,t] = queue_len[:,t-1] + diff\n",
    "    zero_vector = np.zeros((K))\n",
    "    queue_len[:,t] = np.maximum(queue_len[:,t],zero_vector)\n",
    "    return None\n",
    "\n",
    "def generate_honest_strategy_constrained(avg_tp):\n",
    "    inst_strategy = np.zeros(K)\n",
    "    for k in range(K):\n",
    "        if(avg_tp[k]<target_tp_list[k]):\n",
    "            inst_strategy[k]=(target_tp_list[k]-avg_tp[k])\n",
    "    if sum(inst_strategy)>0:\n",
    "        arg_sorted_strategy = np.argsort(inst_strategy)\n",
    "        for k in range(0,K-S):\n",
    "            inst_strategy[arg_sorted_strategy[k]] = 0\n",
    "        inst_strategy = inst_strategy/sum(inst_strategy)\n",
    "        #start projection\n",
    "        for k in range(K-S,K):\n",
    "            if inst_strategy[arg_sorted_strategy[k]] < (q/K):\n",
    "                inst_strategy[arg_sorted_strategy[k]] = (q/K)\n",
    "        inst_strategy = inst_strategy/sum(inst_strategy)\n",
    "        # added efficient projection (Not with 1/(1+2q))\n",
    "    else:\n",
    "        inst_strategy = inst_strategy + 1/K\n",
    "    return inst_strategy\n",
    "\n",
    "def check_shard_in_set(inst_tp):\n",
    "    inst_shard_in_set = []\n",
    "    inst_in_set=True\n",
    "    for k in range(K):\n",
    "        inst_shard_in_set.append(int(inst_tp[k]>=boundary))\n",
    "        inst_in_set = inst_in_set and (inst_tp[k]>=boundary)\n",
    "    return (inst_shard_in_set,inst_in_set)\n",
    "\n",
    "def get_distance(avg_tp):\n",
    "    d=0\n",
    "    for k in range(K):\n",
    "        if avg_tp[k]<boundary:\n",
    "            d = d + (boundary - avg_tp[k])**2\n",
    "    d = d**(1/2)\n",
    "    return d\n",
    "\n",
    "def generate_honest_strategy(avg_tp):\n",
    "    inst_strategy = np.zeros(K)\n",
    "    for k in range(K):\n",
    "        if(avg_tp[k]<target_tp_list[k]):\n",
    "            inst_strategy[k]=(target_tp_list[k]-avg_tp[k])\n",
    "    if sum(inst_strategy)>0:\n",
    "        arg_sorted_strategy = np.argsort(inst_strategy)\n",
    "        for k in range(0,K-S):\n",
    "            inst_strategy[arg_sorted_strategy[k]] = 0\n",
    "        inst_strategy = inst_strategy/sum(inst_strategy)\n",
    "    else:\n",
    "        inst_strategy = inst_strategy + (1/min(N,K))  # If N>K, summation = 1 => 1/K, if N<K, summation = K/N => 1/N\n",
    "    return inst_strategy\n",
    "\n",
    "def generate_honest_strategy_pure_blackwell(avg_tp):\n",
    "    inst_strategy = np.zeros(K)\n",
    "    for k in range(K):\n",
    "        if(avg_tp[k]<target_tp_list[k]):\n",
    "            inst_strategy[k]=(target_tp_list[k]-avg_tp[k])\n",
    "    if sum(inst_strategy)>0:\n",
    "        inst_strategy = inst_strategy/sum(inst_strategy)\n",
    "    else:\n",
    "        inst_strategy = inst_strategy + (1/min(N,K))\n",
    "    return inst_strategy\n",
    "\n",
    "def generate_adv_strategy(avg_tp,honest_strategy):\n",
    "    inst_strategy = np.zeros(K)\n",
    "    for k in range(K):\n",
    "        if(avg_tp[k]<target_tp_list[k]):\n",
    "            inst_strategy[k]=(target_tp_list[k]-avg_tp[k])\n",
    "    if sum(inst_strategy)>0:\n",
    "        inst_strategy = inst_strategy/sum(inst_strategy)\n",
    "    else:\n",
    "        print(\"exception\")\n",
    "        inst_strategy[0]=1.0\n",
    "    return inst_strategy\n",
    "\n",
    "def generate_adv_strategy2(avg_tp,honest_strategy):\n",
    "    attack_shard = np.argmin(honest_strategy)\n",
    "    inst_strategy = np.zeros(K)\n",
    "    inst_strategy[attack_shard]=1.0\n",
    "    return inst_strategy\n",
    "\n",
    "def generate_adv_strategy3(avg_tp,honest_strategy):\n",
    "    N_min = int(np.sqrt(K))\n",
    "    idx = np.argpartition(avg_tp,N_min)\n",
    "    inst_strategy = np.zeros(K)\n",
    "    for k in idx[:N_min]:\n",
    "        inst_strategy[k] = 1.0/N_min\n",
    "    return inst_strategy  \n",
    "\n",
    "def generate_adv_strategy_plain(avg_tp,honest_strategy):\n",
    "    inst_strategy = np.zeros(K)\n",
    "    for k in range(K):\n",
    "        inst_strategy[k] = 1.0/K\n",
    "    return inst_strategy  \n",
    "\n",
    "def generate_adv_strategy_latency(inst_tp,honest_strategy,time):\n",
    "    sorted_id = np.argsort(np.array(inst_tp))\n",
    "    mod = np.log(beta/l)/np.log(r)\n",
    "    #print(mod)\n",
    "    N_min = int(beta/(r**(time%mod)*l))+1\n",
    "    #print(N_min)\n",
    "    ind_beta = r**(time%mod)*l\n",
    "    inst_strategy = np.zeros(K)\n",
    "    for k in sorted_id[:N_min]:\n",
    "        inst_strategy[k] = ind_beta\n",
    "    return inst_strategy  \n",
    "\n",
    "def get_inst_tp(honest_strategy,adv_strategy):\n",
    "    inst_tp=np.zeros(K)\n",
    "    for k in range(K):\n",
    "        if honest_strategy[k]>0 and adv_strategy[k]>0:\n",
    "            inst_tp[k]= honest_strategy[k]/(honest_strategy[k]+adv_strategy[k])\n",
    "            hs = np.random.poisson(10000*honest_strategy[k])\n",
    "            ads = np.random.poisson(10000*adv_strategy[k])\n",
    "            #hs = honest_strategy[k]\n",
    "            #ads = adv_strategy[k]\n",
    "            #inst_tp[k]= hs/(hs + ads+0.01/K)\n",
    "            inst_tp[k] = temp_division(hs, hs+ads)\n",
    "        elif honest_strategy[k]>0 and adv_strategy[k]<=0:\n",
    "            inst_tp[k]=1.0\n",
    "        else:\n",
    "            inst_tp[k]=0.0\n",
    "    return inst_tp\n",
    "\n",
    "def get_inst_tp_real(honest_strategy,adv_strategy,number,prev_total):\n",
    "    inst_tp_adv=np.zeros(K)\n",
    "    inst_tp_honest=np.zeros(K)\n",
    "    if number==0:\n",
    "        for k in range(K):\n",
    "            inst_tp_honest[k] = 0\n",
    "            #inst_tp_adv[k] = adv_strategy[k]/(prev_total[k]+0.01/K)+(0.01/K)\n",
    "            if prev_total[k] < 0.1/K:\n",
    "                inst_tp_adv[k] = max_capacity_scaleup\n",
    "            else:\n",
    "                inst_tp_adv[k] = min(temp_division(adv_strategy[k],prev_total[k]),max_capacity_scaleup)\n",
    "                #inst_tp_adv[k] = max_capacity_scaleup\n",
    "    elif number>0 and number<=E_s-1:\n",
    "        for k in range(K):\n",
    "            inst_tp_honest[k] = 0\n",
    "            inst_tp_adv[k] = 1\n",
    "    elif number == E_s:\n",
    "        for k in range(K):\n",
    "            #inst_tp_honest[k] = honest_strategy[k]/(adv_strategy[k]+0.01/K)+(0.01/K)\n",
    "            if adv_strategy[k] < 0.1/K:\n",
    "                inst_tp_honest[k] = max_capacity_scaleup\n",
    "            else:\n",
    "                inst_tp_honest[k] = min(temp_division(honest_strategy[k],adv_strategy[k]),max_capacity_scaleup)\n",
    "                #inst_tp_honest[k] = max_capacity_scaleup\n",
    "            inst_tp_adv[k] = 1\n",
    "    else:\n",
    "        for k in range(K):\n",
    "            hs = np.random.poisson(10000*honest_strategy[k])\n",
    "            ads = np.random.poisson(10000*adv_strategy[k])\n",
    "            #hs = honest_strategy[k]\n",
    "            #ads = adv_strategy[k]\n",
    "            #inst_tp_honest[k]= hs/(hs + ads+(0.01/K))\n",
    "            inst_tp_honest[k] = temp_division(hs,hs+ads)\n",
    "            #inst_tp_adv[k]= ads/(hs + ads+(0.01/K))\n",
    "            inst_tp_adv[k]= temp_division(ads, hs+ads)\n",
    "    return inst_tp_honest, inst_tp_adv\n",
    "\n",
    "def get_inst_tp_estimate(honest_strategy, adv_strategy, ideal_honest_strategy):\n",
    "    ideal_inst_tp=np.zeros(K)\n",
    "    for k in range(K):\n",
    "        if False:\n",
    "            #ideal_inst_tp[k] = ideal_honest_strategy[k]/(honest_strategy[k]+adv_strategy[k]+0.01/K)\n",
    "            ideal_inst_tp[k] = temp_division(ideal_honest_strategy[k],honest_strategy[k]+adv_strategy[k])\n",
    "        else:\n",
    "            if ideal_honest_strategy[k]>0 and honest_strategy[k]+adv_strategy[k]>ideal_honest_strategy[k]:\n",
    "                ideal_inst_tp[k] = ideal_honest_strategy[k]/(honest_strategy[k]+adv_strategy[k])\n",
    "            elif ideal_honest_strategy[k]>0 and honest_strategy[k]+adv_strategy[k]<=ideal_honest_strategy[k]:\n",
    "                ideal_inst_tp[k]=1.0\n",
    "            else:\n",
    "                ideal_inst_tp[k]=0.0\n",
    "    return ideal_inst_tp\n",
    "\n",
    "def get_inst_tp_estimate_real(honest_strategy, adv_strategy, ideal_honest_strategy):\n",
    "    ideal_inst_tp=np.zeros(K)\n",
    "    honest_strategy = honest_strategy*(epoch_length-E_s)/epoch_length\n",
    "    for k in range(K):\n",
    "        #ideal_inst_tp[k] = ideal_honest_strategy[k]/(honest_strategy[k]+adv_strategy[k]+0.01/K)\n",
    "        ideal_inst_tp[k] = temp_division(ideal_honest_strategy[k], honest_strategy[k]+adv_strategy[k])\n",
    "    return ideal_inst_tp\n",
    "\n",
    "def get_inst_tp_var_real(honest_strategy, adv_strategy, prev_total):\n",
    "    inst_tp=np.zeros(K)\n",
    "    honest_strategy = honest_strategy*(epoch_length-E_s)/epoch_length\n",
    "    for k in range(K):\n",
    "        #numerator = (epoch_length-E_s-1)*(honest_strategy[k])/(honest_strategy[k] + adv_strategy[k]+0.01/K) + honest_strategy[k]/(adv_strategy[k]+0.01/K)\n",
    "        numerator = (epoch_length-E_s-1)*temp_division((honest_strategy[k]),(honest_strategy[k] + adv_strategy[k])) + temp_division(honest_strategy[k],(adv_strategy[k]))\n",
    "        #denominator = (epoch_length-1) + adv_strategy[k]/(prev_total[k]+0.01/K) + honest_strategy[k]/(adv_strategy[k]+0.01/K)\n",
    "        denominator = (epoch_length-1) + temp_division(adv_strategy[k],(prev_total[k])) + temp_division(honest_strategy[k],(adv_strategy[k]))\n",
    "        #inst_tp[k] = numerator/denominator\n",
    "        inst_tp[k] = temp_division(numerator,denominator)\n",
    "    return inst_tp\n",
    "\n",
    "def get_actual_honest_strategy(ideal_honest_strategy):\n",
    "    prob = np.array(ideal_honest_strategy)/np.sum(ideal_honest_strategy)\n",
    "    shards = np.arange(K)\n",
    "    actual_honest_strategy = np.zeros(K)\n",
    "    for i in range(N):\n",
    "        choice = np.random.choice(shards,p=prob)\n",
    "        actual_honest_strategy[int(round(choice))] +=1\n",
    "    actual_honest_strategy = actual_honest_strategy/N\n",
    "    return actual_honest_strategy\n",
    "\n",
    "\n"
   ]
  },
  {
   "cell_type": "code",
   "execution_count": 600,
   "metadata": {},
   "outputs": [
    {
     "name": "stdout",
     "output_type": "stream",
     "text": [
      "[array([1, 1, 1, 1, 1, 1])]\n",
      "[True]\n"
     ]
    }
   ],
   "source": [
    "origin_state = np.zeros(K)\n",
    "#origin_state = origin_state + 1\n",
    "#origin_state[0] = 1/2/K\n",
    "#origin_state[K-1] = 1/2/K\n",
    "#TEMP REMOVE ASAP\n",
    "origin_state = origin_state + 1/2\n",
    "#TEMP END\n",
    "\n",
    "avg_rt_list.append(origin_state)\n",
    "rt_list.append(origin_state)\n",
    "#TODO: Add randomness here\n",
    "avg_rte_list.append(origin_state)\n",
    "rte_list.append(origin_state)\n",
    "#END TODO\n",
    "(inst_shard_in_set,inst_in_set) = check_shard_in_set(origin_state)\n",
    "shard_in_set.append(np.array(inst_shard_in_set))\n",
    "in_set.append(inst_in_set)\n",
    "dist = get_distance(avg_rt_list[0])\n",
    "distance_list.append(dist)\n",
    "prev_total_mining_power = np.ones(K)/K\n",
    "\n",
    "print(shard_in_set)\n",
    "print(in_set)"
   ]
  },
  {
   "cell_type": "code",
   "execution_count": 601,
   "metadata": {},
   "outputs": [],
   "source": [
    "for t in range(1,T):\n",
    "    if t==1:\n",
    "        ideal_honest_strategy = generate_honest_strategy_constrained(avg_rte_list[t-1])\n",
    "        #ideal_honest_strategy = generate_honest_strategy(avg_rte_list[t-1])\n",
    "        #ideal_honest_strategy = generate_honest_strategy_pure_blackwell(avg_rte_list[t-1])\n",
    "        honest_strategy = get_actual_honest_strategy(ideal_honest_strategy)\n",
    "        #honest_strategy = ideal_honest_strategy\n",
    "        #adversarial_strategy = generate_adv_strategy_plain(avg_rt_list[t-1],honest_strategy)\n",
    "        #adversarial_strategy = generate_adv_strategy3(avg_rt_list[t-1],honest_strategy)\n",
    "        adversarial_strategy = generate_adv_strategy_latency(rt_list[t-1],honest_strategy,t)\n",
    "    if t%epoch_length==0:\n",
    "        ideal_honest_strategy = generate_honest_strategy_constrained(avg_rte_list[t-1])\n",
    "        #ideal_honest_strategy = generate_honest_strategy(avg_rte_list[t-1])\n",
    "        #ideal_honest_strategy = generate_honest_strategy_pure_blackwell(avg_rte_list[t-1])\n",
    "        honest_strategy = get_actual_honest_strategy(ideal_honest_strategy)\n",
    "        #honest_strategy = ideal_honest_strategy\n",
    "        #adversarial_strategy = generate_adv_strategy_plain(avg_rt_list[t-1],honest_strategy)\n",
    "        #adversarial_strategy = generate_adv_strategy3(avg_rt_list[t-1],honest_strategy)\n",
    "        adversarial_strategy = generate_adv_strategy_latency(rt_list[t-1],honest_strategy,t)\n",
    "    else:\n",
    "        pass #(Can modify adversarial strategy here)\n",
    "    \n",
    "    number = t%epoch_length\n",
    "    inst_tp_real_honest, inst_tp_real_adversarial = get_inst_tp_real(honest_strategy,adversarial_strategy,number,prev_total_mining_power)\n",
    "    #print(\"Honest strategy, adversarial strategy at time= \" + str(t))\n",
    "    #print(honest_strategy, adversarial_strategy)\n",
    "    #print(\"inst_tp_real_honest, inst_tp_real_adversarial at time=\" + str(t))\n",
    "    #print(inst_tp_real_honest, inst_tp_real_adversarial)\n",
    "    update_queue_len_real(inst_tp_real_honest,inst_tp_real_adversarial,t)\n",
    "        \n",
    "    inst_tp_estimate = get_inst_tp_estimate_real(honest_strategy,adversarial_strategy,ideal_honest_strategy)\n",
    "    #print(honest_strategy,adversarial_strategy,ideal_honest_strategy)\n",
    "    #print(\"Instant TP estimate\")\n",
    "    #print(inst_tp_estimate)\n",
    "    #inst_tp_estimate = inst_tp\n",
    "    inst_tp = get_inst_tp_var_real(honest_strategy,adversarial_strategy,prev_total_mining_power)\n",
    "    #print(inst_tp)\n",
    "    rte_list.append(np.array(inst_tp_estimate))\n",
    "    avg_rte_list.append((t/(t+1))*avg_rte_list[t-1]+(1/(t+1))*np.array(inst_tp_estimate))\n",
    "    rt_list.append(np.array(inst_tp))\n",
    "    avg_rt_list.append((t/(t+1))*avg_rt_list[t-1]+(1/(t+1))*np.array(inst_tp))\n",
    "    (inst_shard_in_set,inst_in_set) = check_shard_in_set(np.array(inst_tp))\n",
    "    shard_in_set.append(np.array(inst_shard_in_set))\n",
    "    in_set.append(inst_in_set)\n",
    "    dist = get_distance(avg_rt_list[t])\n",
    "    distance_list.append(dist)\n",
    "    if dist>trigger_threshold:\n",
    "        trigger = max(trigger,t)\n",
    "    prev_total_mining_power = adversarial_strategy+honest_strategy\n",
    "#print(avg_rte_list)\n",
    "#print(avg_rt_list)"
   ]
  },
  {
   "cell_type": "code",
   "execution_count": 602,
   "metadata": {
    "collapsed": true,
    "scrolled": true
   },
   "outputs": [],
   "source": [
    "min_rt_list = []\n",
    "for t in range(T):\n",
    "    min_rt_list.append(np.min(avg_rt_list[t]))\n",
    "max_latency_list = []\n",
    "for t in range(T):\n",
    "    max_latency_list.append(np.max(queue_len[:,t]))"
   ]
  },
  {
   "cell_type": "code",
   "execution_count": 603,
   "metadata": {
    "scrolled": true
   },
   "outputs": [
    {
     "data": {
      "image/png": "[encoded data removed]",
      "text/plain": [
       "<Figure size 504x504 with 1 Axes>"
      ]
     },
     "metadata": {
      "needs_background": "light"
     },
     "output_type": "display_data"
    }
   ],
   "source": [
    "plt.figure(figsize=(7,7))\n",
    "x_axis = np.arange(1,T+1,1)\n",
    "y_axis_1 = np.array(min_rt_list)\n",
    "plt.plot(x_axis, y_axis_1)\n",
    "#plt.xlabel(\"Time\")\n",
    "#plt.ylabel(\"Normalized Throughput\")\n",
    "#plt.title(\"Worst case shard throughput\")\n",
    "plt.show()\n",
    "#plt.savefig(\"/Users/ranvirrana/Dropbox/Sharding_Talk/simulation_plots/latency_bound_adv/worst_shard_tp.png\")\n",
    "#plt.savefig(\"/Users/ranvirrana/Dropbox/ccs2020/latency_bound_adv/worst_shard_tp6.pdf\")"
   ]
  },
  {
   "cell_type": "code",
   "execution_count": 604,
   "metadata": {},
   "outputs": [
    {
     "data": {
      "image/png": "[encoded data removed]",
      "text/plain": [
       "<Figure size 504x504 with 1 Axes>"
      ]
     },
     "metadata": {
      "needs_background": "light"
     },
     "output_type": "display_data"
    }
   ],
   "source": [
    "plt.figure(figsize=(7,7))\n",
    "x_axis = np.arange(1,T+1,1)\n",
    "y_axis_1 = np.array(max_latency_list)\n",
    "plt.plot(x_axis, y_axis_1)\n",
    "plt.xlabel(\"Time\")\n",
    "plt.ylabel(\"Max queue length\")\n",
    "plt.title(\"Worst case shard throughput\")\n",
    "plt.show()\n",
    "#plt.savefig(\"/Users/ranvirrana/Dropbox/ccs2020/latency_bound_adv/queue_len2.pdf\")"
   ]
  },
  {
   "cell_type": "code",
   "execution_count": 605,
   "metadata": {},
   "outputs": [
    {
     "name": "stdout",
     "output_type": "stream",
     "text": [
      "19.5034718173\n"
     ]
    }
   ],
   "source": [
    "latency_mean = []\n",
    "for k in range(K):\n",
    "    temp_mean = np.mean(np.array(latency_stats[k]))\n",
    "    latency_mean.append(temp_mean)\n",
    "net_latency_mean = np.mean(np.array(all_latency_stats))\n",
    "print(net_latency_mean)"
   ]
  },
  {
   "cell_type": "code",
   "execution_count": 606,
   "metadata": {},
   "outputs": [
    {
     "data": {
      "image/png": "[encoded data removed]",
      "text/plain": [
       "<Figure size 432x288 with 1 Axes>"
      ]
     },
     "metadata": {
      "needs_background": "light"
     },
     "output_type": "display_data"
    }
   ],
   "source": [
    "# Latency histogram\n",
    "plt.close()\n",
    "plt.bar(np.arange(K), latency_mean, bottom=0)\n",
    "#plt.xlabel(\"Shards\")\n",
    "#plt.ylabel(\"Mean latency\")\n",
    "plt.show()\n",
    "#plt.savefig(\"/Users/ranvirrana/Dropbox/ccs2020/latency_bound_adv/latency6.pdf\")"
   ]
  },
  {
   "cell_type": "code",
   "execution_count": 607,
   "metadata": {},
   "outputs": [
    {
     "data": {
      "image/png": "[encoded data removed]",
      "text/plain": [
       "<Figure size 504x504 with 1 Axes>"
      ]
     },
     "metadata": {
      "needs_background": "light"
     },
     "output_type": "display_data"
    }
   ],
   "source": [
    "# Latency histogram\n",
    "plt.close()\n",
    "plt.figure(figsize=(7,7))\n",
    "x_axis = np.arange(1,K+1,1)\n",
    "y_axis_1 = np.array(avg_rt_list[T-1])\n",
    "y_axis_2 = np.array(target_tp_list)\n",
    "plt.plot(x_axis, y_axis_1)\n",
    "plt.plot(x_axis, y_axis_2)\n",
    "plt.legend(['Free2Shard','target'],fontsize=20)\n",
    "plt.xlabel(\"Shard id\",fontsize=20)\n",
    "plt.ylabel(\"Average honest node fraction\",fontsize=20)\n",
    "plt.title(\"Biased estimator\")\n",
    "#plt.ylim(0.25*S/K, 1.5*S/K)\n",
    "#plt.xlabel(\"Shards\")\n",
    "#plt.ylabel(\"Normalized throughput\")\n",
    "plt.show()\n",
    "#plt.savefig(\"/Users/ranvirrana/Dropbox/ccs2020/intermediate_experiments/target_tp1_unbiased.png\")"
   ]
  },
  {
   "cell_type": "code",
   "execution_count": 608,
   "metadata": {
    "collapsed": true
   },
   "outputs": [],
   "source": [
    "avg_rt_arg_sort = np.argsort(np.array(avg_rt_list[T-1]))\n",
    "min_shard = avg_rt_arg_sort[0]\n",
    "min2_shard = avg_rt_arg_sort[1]\n"
   ]
  },
  {
   "cell_type": "code",
   "execution_count": 609,
   "metadata": {},
   "outputs": [
    {
     "data": {
      "image/png": "[encoded data removed]",
      "text/plain": [
       "<Figure size 504x504 with 1 Axes>"
      ]
     },
     "metadata": {
      "needs_background": "light"
     },
     "output_type": "display_data"
    }
   ],
   "source": [
    "plt.figure(figsize=(7,7))\n",
    "x_axis = np.arange(1,T+1,1)\n",
    "y_axis_1 = np.array(distance_list)\n",
    "upper_bound = []\n",
    "for t in range(T):\n",
    "    upper_bound.append((K/(t+1))**(1/2))\n",
    "y_axis_2 = np.array(upper_bound)\n",
    "#plt.semilogx(x_axis, avg_tp)\n",
    "plt.plot(x_axis, y_axis_1)\n",
    "plt.plot(x_axis, y_axis_2)\n",
    "#plt.xlabel(\"log(K)/loglog(K)\")\n",
    "#plt.ylabel(\"1/TP\")\n",
    "#plt.legend([\"r=logK\"])\n",
    "plt.title(\"Order optimal adversarial strategy (adversary=0.5)\")\n",
    "plt.show()"
   ]
  },
  {
   "cell_type": "code",
   "execution_count": 610,
   "metadata": {
    "scrolled": false
   },
   "outputs": [
    {
     "ename": "IndexError",
     "evalue": "index 6 is out of bounds for axis 1 with size 6",
     "output_type": "error",
     "traceback": [
      "\u001b[0;31m---------------------------------------------------------------------------\u001b[0m",
      "\u001b[0;31mIndexError\u001b[0m                                Traceback (most recent call last)",
      "\u001b[0;32m<ipython-input-610-ef55e55ef0bd>\u001b[0m in \u001b[0;36m<module>\u001b[0;34m()\u001b[0m\n\u001b[1;32m      1\u001b[0m \u001b[0mplt\u001b[0m\u001b[0;34m.\u001b[0m\u001b[0mfigure\u001b[0m\u001b[0;34m(\u001b[0m\u001b[0mfigsize\u001b[0m\u001b[0;34m=\u001b[0m\u001b[0;34m(\u001b[0m\u001b[0;36m7\u001b[0m\u001b[0;34m,\u001b[0m\u001b[0;36m7\u001b[0m\u001b[0;34m)\u001b[0m\u001b[0;34m)\u001b[0m\u001b[0;34m\u001b[0m\u001b[0m\n\u001b[1;32m      2\u001b[0m \u001b[0mx_axis\u001b[0m \u001b[0;34m=\u001b[0m \u001b[0mnp\u001b[0m\u001b[0;34m.\u001b[0m\u001b[0marray\u001b[0m\u001b[0;34m(\u001b[0m\u001b[0mavg_rt_list\u001b[0m\u001b[0;34m)\u001b[0m\u001b[0;34m[\u001b[0m\u001b[0;34m:\u001b[0m\u001b[0;34m,\u001b[0m\u001b[0;36m1\u001b[0m\u001b[0;34m]\u001b[0m\u001b[0;34m\u001b[0m\u001b[0m\n\u001b[0;32m----> 3\u001b[0;31m \u001b[0my_axis\u001b[0m \u001b[0;34m=\u001b[0m \u001b[0mnp\u001b[0m\u001b[0;34m.\u001b[0m\u001b[0marray\u001b[0m\u001b[0;34m(\u001b[0m\u001b[0mavg_rt_list\u001b[0m\u001b[0;34m)\u001b[0m\u001b[0;34m[\u001b[0m\u001b[0;34m:\u001b[0m\u001b[0;34m,\u001b[0m\u001b[0;36m6\u001b[0m\u001b[0;34m]\u001b[0m\u001b[0;34m\u001b[0m\u001b[0m\n\u001b[0m\u001b[1;32m      4\u001b[0m \u001b[0;31m#plt.semilogx(x_axis, avg_tp)\u001b[0m\u001b[0;34m\u001b[0m\u001b[0;34m\u001b[0m\u001b[0m\n\u001b[1;32m      5\u001b[0m \u001b[0mplt\u001b[0m\u001b[0;34m.\u001b[0m\u001b[0mplot\u001b[0m\u001b[0;34m(\u001b[0m\u001b[0mx_axis\u001b[0m\u001b[0;34m,\u001b[0m \u001b[0my_axis\u001b[0m\u001b[0;34m)\u001b[0m\u001b[0;34m\u001b[0m\u001b[0m\n",
      "\u001b[0;31mIndexError\u001b[0m: index 6 is out of bounds for axis 1 with size 6"
     ]
    },
    {
     "data": {
      "text/plain": [
       "<Figure size 504x504 with 0 Axes>"
      ]
     },
     "metadata": {},
     "output_type": "display_data"
    }
   ],
   "source": [
    "plt.figure(figsize=(7,7))\n",
    "x_axis = np.array(avg_rt_list)[:,1]\n",
    "y_axis = np.array(avg_rt_list)[:,6]\n",
    "#plt.semilogx(x_axis, avg_tp)\n",
    "plt.plot(x_axis, y_axis)\n",
    "plt.xlabel(\"log(K)/loglog(K)\")\n",
    "plt.ylabel(\"1/TP\")\n",
    "plt.legend([\"r=logK\"])\n",
    "plt.title(\"Order optimal adversarial strategy (adversary=0.5)\")\n",
    "plt.show()"
   ]
  },
  {
   "cell_type": "code",
   "execution_count": null,
   "metadata": {},
   "outputs": [],
   "source": [
    "shard_1=0\n",
    "shard_2=1\n",
    "x = np.array(rt_list)[:,shard_1]\n",
    "y = np.array(rt_list)[:,shard_2]\n",
    "x_avg = np.array(avg_rt_list)[:,shard_1]\n",
    "y_avg = np.array(avg_rt_list)[:,shard_2]\n",
    "dydx = np.arange(1,T+1,1)\n",
    "\n",
    "points = np.array([x, y]).T.reshape(-1, 1, 2)\n",
    "segments = np.concatenate([points[:-1], points[1:]], axis=1)\n",
    "\n",
    "fig, axs = plt.subplots(2, 1, figsize=(15,15))\n",
    "norm = plt.Normalize(dydx.min(), dydx.max())\n",
    "lc = LineCollection(segments, cmap='viridis', norm=norm)\n",
    "lc.set_array(dydx)\n",
    "lc.set_linewidth(2)\n",
    "line = axs[0].add_collection(lc)\n",
    "fig.colorbar(line, ax=axs[0])\n",
    "axs[0].set_xlabel(\"Instantaneous TP_shard1\")\n",
    "axs[0].set_ylabel(\"Instantaneous TP_shard2\")\n",
    "\n",
    "points_avg = np.array([x_avg, y_avg]).T.reshape(-1, 1, 2)\n",
    "segments_avg = np.concatenate([points_avg[:-1], points_avg[1:]], axis=1)\n",
    "\n",
    "lc_avg = LineCollection(segments_avg, cmap='viridis', norm=norm)\n",
    "lc_avg.set_array(dydx)\n",
    "lc_avg.set_linewidth(2)\n",
    "line_avg = axs[1].add_collection(lc_avg)\n",
    "fig.colorbar(line_avg, ax=axs[1])\n",
    "axs[1].set_xlabel(\"Average TP_shard1\")\n",
    "axs[1].set_ylabel(\"Average TP_shard2\")\n",
    "\n",
    "plt.show()\n",
    "#plt.savefig(\"/Users/ranvirrana/Dropbox/Sharding_Talk/simulation_plots/rootK_min_adversary/random_shards_evo.png\")"
   ]
  },
  {
   "cell_type": "code",
   "execution_count": null,
   "metadata": {},
   "outputs": [],
   "source": [
    "print(min_shard)\n",
    "print(min2_shard)\n",
    "shard_1=min_shard\n",
    "shard_2=min2_shard\n",
    "x = np.array(rt_list)[:,shard_1]\n",
    "y = np.array(rt_list)[:,shard_2]\n",
    "x_avg = np.array(avg_rt_list)[:,shard_1]\n",
    "y_avg = np.array(avg_rt_list)[:,shard_2]\n",
    "dydx = np.arange(1,T+1,1)\n",
    "\n",
    "points = np.array([x, y]).T.reshape(-1, 1, 2)\n",
    "segments = np.concatenate([points[:-1], points[1:]], axis=1)\n",
    "\n",
    "fig, axs = plt.subplots(2, 1, figsize=(15,15))\n",
    "norm = plt.Normalize(dydx.min(), dydx.max())\n",
    "lc = LineCollection(segments, cmap='viridis', norm=norm)\n",
    "lc.set_array(dydx)\n",
    "lc.set_linewidth(2)\n",
    "line = axs[0].add_collection(lc)\n",
    "fig.colorbar(line, ax=axs[0])\n",
    "axs[0].set_xlabel(\"Instantaneous TP_min_shard\")\n",
    "axs[0].set_ylabel(\"Instantaneous TP_2nd_min_shard\")\n",
    "\n",
    "points_avg = np.array([x_avg, y_avg]).T.reshape(-1, 1, 2)\n",
    "segments_avg = np.concatenate([points_avg[:-1], points_avg[1:]], axis=1)\n",
    "\n",
    "lc_avg = LineCollection(segments_avg, cmap='viridis', norm=norm)\n",
    "lc_avg.set_array(dydx)\n",
    "lc_avg.set_linewidth(2)\n",
    "line_avg = axs[1].add_collection(lc_avg)\n",
    "fig.colorbar(line_avg, ax=axs[1])\n",
    "axs[1].set_xlabel(\"Average TP_min_shard\")\n",
    "axs[1].set_ylabel(\"Average TP_2nd_min_shard\")\n",
    "\n",
    "plt.show()\n",
    "#plt.savefig(\"/Users/ranvirrana/Dropbox/Sharding_Talk/simulation_plots/rootK_min_adversary/min_shards_evo.png\")"
   ]
  },
  {
   "cell_type": "code",
   "execution_count": null,
   "metadata": {},
   "outputs": [],
   "source": [
    "#shard_1=min_shard\n",
    "#shard_2=min2_shard\n",
    "shard_1=0\n",
    "shard_2=1\n",
    "x_avg = np.array(avg_rt_list)[:,shard_1]\n",
    "y_avg = np.array(avg_rt_list)[:,shard_2]\n",
    "U = np.zeros(T)\n",
    "V = np.zeros(T)\n",
    "time = np.arange(1,T+1,1)\n",
    "widths = np.zeros(T)\n",
    "for t in range(T-1):\n",
    "    U[t] = (x_avg[t+1] - x_avg[t])\n",
    "    V[t] = (y_avg[t+1] - y_avg[t])\n",
    "    \n",
    "fig1, ax1 = plt.subplots(figsize=(7,7))\n",
    "#ax1.set_title('Arrows scale with plot width, not view')\n",
    "Q = ax1.quiver(x_avg, y_avg, U, V, time, cmap='viridis', angles='xy', width=0.0025, scale=0.2, headwidth=6, headlength=10, headaxislength=9)\n",
    "#qk = ax1.quiverkey(Q, 0.9, 0.9, 2, r'$2 \\frac{m}{s}$', labelpos='E',\n",
    "#                   coordinates='figure')\n",
    "#print(U)\n",
    "#print(x_avg)\n",
    "#print(V)\n",
    "plt.xlim(0.4,0.6)\n",
    "plt.ylim(0.4,0.6)\n",
    "#plt.xlim(0,1)\n",
    "#plt.ylim(0,1)\n",
    "plt.xticks(fontsize=15)\n",
    "plt.yticks(fontsize=15)\n",
    "#ax1.set_xlabel(\"Instantaneous TP min shard\", fontsize=15)\n",
    "#ax1.set_ylabel(\"Instantaneous TP 2nd shard\", fontsize=15)\n",
    "'''\n",
    "norm = plt.Normalize(time.min(), time.max())\n",
    "lc = LineCollection(, cmap='viridis', norm=norm)\n",
    "lc.set_array(time)\n",
    "#lc.set_linewidth(2)\n",
    "line = axs[0].add_collection(lc)\n",
    "fig1.colorbar(line, ax=ax1)\n",
    "'''\n",
    "plt.show()\n",
    "#plt.savefig(\"/Users/ranvirrana/Dropbox/Sharding_Talk/simulation_plots/rootK_min_adversary/min_shards_evo_vector_zoom.png\")\n",
    "#plt.savefig(\"/Users/ranvirrana/Dropbox/ccs2020/latency_bound_adv/avg_zoom6.pdf\")"
   ]
  },
  {
   "cell_type": "code",
   "execution_count": null,
   "metadata": {
    "collapsed": true
   },
   "outputs": [],
   "source": [
    "stored_vars = {}\n",
    "stored_vars['avg_rt_list'] = avg_rt_list\n",
    "stored_vars['rt_list'] = rt_list\n",
    "stored_vars['distance_list'] = distance_list\n",
    "stored_vars['latency_stats'] = latency_stats\n",
    "stored_vars['all_latency_stats'] = all_latency_stats\n",
    "stored_vars['latency_queue'] = latency_queue\n",
    "stored_vars['target_tp_list'] = target_tp_list\n",
    "stored_vars['min_rt_list'] = min_rt_list\n",
    "stored_vars['latency_mean'] = latency_mean\n",
    "stored_vars['net_latency_mean'] = net_latency_mean\n",
    "stored_vars['queue_len'] = queue_len\n",
    "\n",
    "with open('/Users/ranvirrana/Dropbox/ccs2020/latency_bound_adv/dict6.pickle', 'wb') as handle:\n",
    "    pickle.dump(stored_vars, handle, protocol=pickle.HIGHEST_PROTOCOL)"
   ]
  },
  {
   "cell_type": "code",
   "execution_count": null,
   "metadata": {
    "collapsed": true
   },
   "outputs": [],
   "source": [
    "in_set_latency=0\n",
    "shard_in_set_latency=np.zeros(K)\n",
    "g=1\n",
    "temp_in_set_latency=0\n",
    "temp_shard_in_set_latency=np.zeros(K)\n",
    "\n",
    "for t in range(T):\n",
    "    if not in_set[t]:\n",
    "        temp_in_set_latency += 1\n",
    "        in_set_latency=max(in_set_latency,temp_in_set_latency)\n",
    "    else:\n",
    "        in_set_latency=max(in_set_latency,temp_in_set_latency)\n",
    "        temp_in_set_latency=0\n",
    "    #Now analyze g-good latency of each shard\n",
    "    for k in range(K):\n",
    "        if (rt_list[t][k]<g):\n",
    "            temp_shard_in_set_latency[k] += 1\n",
    "            shard_in_set_latency[k] = max(shard_in_set_latency[k],temp_shard_in_set_latency[k])\n",
    "        else:\n",
    "            shard_in_set_latency[k] = max(shard_in_set_latency[k],temp_shard_in_set_latency[k])\n",
    "            temp_shard_in_set_latency[k]=0"
   ]
  },
  {
   "cell_type": "code",
   "execution_count": null,
   "metadata": {
    "scrolled": true
   },
   "outputs": [],
   "source": [
    "print(in_set_latency)\n",
    "print(max(shard_in_set_latency))\n",
    "print(trigger)\n",
    "#print(distance_list)"
   ]
  },
  {
   "cell_type": "code",
   "execution_count": 123,
   "metadata": {},
   "outputs": [
    {
     "ename": "KeyboardInterrupt",
     "evalue": "",
     "output_type": "error",
     "traceback": [
      "\u001b[0;31m---------------------------------------------------------------------------\u001b[0m",
      "\u001b[0;31mKeyboardInterrupt\u001b[0m                         Traceback (most recent call last)",
      "\u001b[0;32m<ipython-input-123-50e645522552>\u001b[0m in \u001b[0;36m<module>\u001b[0;34m()\u001b[0m\n\u001b[1;32m      6\u001b[0m     \u001b[0;32mfor\u001b[0m \u001b[0mt\u001b[0m \u001b[0;32min\u001b[0m \u001b[0mrange\u001b[0m\u001b[0;34m(\u001b[0m\u001b[0mT\u001b[0m\u001b[0;34m-\u001b[0m\u001b[0mm\u001b[0m\u001b[0;34m+\u001b[0m\u001b[0;36m1\u001b[0m\u001b[0;34m)\u001b[0m\u001b[0;34m:\u001b[0m\u001b[0;34m\u001b[0m\u001b[0m\n\u001b[1;32m      7\u001b[0m         \u001b[0;32mfor\u001b[0m \u001b[0mk\u001b[0m \u001b[0;32min\u001b[0m \u001b[0mrange\u001b[0m\u001b[0;34m(\u001b[0m\u001b[0mK\u001b[0m\u001b[0;34m)\u001b[0m\u001b[0;34m:\u001b[0m\u001b[0;34m\u001b[0m\u001b[0m\n\u001b[0;32m----> 8\u001b[0;31m             \u001b[0mmin_tp\u001b[0m \u001b[0;34m=\u001b[0m \u001b[0mmin\u001b[0m\u001b[0;34m(\u001b[0m\u001b[0mmin_tp\u001b[0m\u001b[0;34m,\u001b[0m\u001b[0mnp\u001b[0m\u001b[0;34m.\u001b[0m\u001b[0mmean\u001b[0m\u001b[0;34m(\u001b[0m\u001b[0mrt_list_np\u001b[0m\u001b[0;34m[\u001b[0m\u001b[0mt\u001b[0m\u001b[0;34m:\u001b[0m\u001b[0mt\u001b[0m\u001b[0;34m+\u001b[0m\u001b[0mm\u001b[0m\u001b[0;34m]\u001b[0m\u001b[0;34m)\u001b[0m\u001b[0;34m)\u001b[0m\u001b[0;34m\u001b[0m\u001b[0m\n\u001b[0m\u001b[1;32m      9\u001b[0m     \u001b[0mmin_tp_list\u001b[0m\u001b[0;34m.\u001b[0m\u001b[0mappend\u001b[0m\u001b[0;34m(\u001b[0m\u001b[0mmin_tp\u001b[0m\u001b[0;34m)\u001b[0m\u001b[0;34m\u001b[0m\u001b[0m\n",
      "\u001b[0;32m~/anaconda2/envs/py36/lib/python3.6/site-packages/numpy/core/fromnumeric.py\u001b[0m in \u001b[0;36mmean\u001b[0;34m(a, axis, dtype, out, keepdims)\u001b[0m\n\u001b[1;32m   2887\u001b[0m \u001b[0;34m\u001b[0m\u001b[0m\n\u001b[1;32m   2888\u001b[0m     return _methods._mean(a, axis=axis, dtype=dtype,\n\u001b[0;32m-> 2889\u001b[0;31m                           out=out, **kwargs)\n\u001b[0m\u001b[1;32m   2890\u001b[0m \u001b[0;34m\u001b[0m\u001b[0m\n\u001b[1;32m   2891\u001b[0m \u001b[0;34m\u001b[0m\u001b[0m\n",
      "\u001b[0;32m~/anaconda2/envs/py36/lib/python3.6/site-packages/numpy/core/_methods.py\u001b[0m in \u001b[0;36m_mean\u001b[0;34m(a, axis, dtype, out, keepdims)\u001b[0m\n\u001b[1;32m     68\u001b[0m             \u001b[0mis_float16_result\u001b[0m \u001b[0;34m=\u001b[0m \u001b[0;32mTrue\u001b[0m\u001b[0;34m\u001b[0m\u001b[0m\n\u001b[1;32m     69\u001b[0m \u001b[0;34m\u001b[0m\u001b[0m\n\u001b[0;32m---> 70\u001b[0;31m     \u001b[0mret\u001b[0m \u001b[0;34m=\u001b[0m \u001b[0mumr_sum\u001b[0m\u001b[0;34m(\u001b[0m\u001b[0marr\u001b[0m\u001b[0;34m,\u001b[0m \u001b[0maxis\u001b[0m\u001b[0;34m,\u001b[0m \u001b[0mdtype\u001b[0m\u001b[0;34m,\u001b[0m \u001b[0mout\u001b[0m\u001b[0;34m,\u001b[0m \u001b[0mkeepdims\u001b[0m\u001b[0;34m)\u001b[0m\u001b[0;34m\u001b[0m\u001b[0m\n\u001b[0m\u001b[1;32m     71\u001b[0m     \u001b[0;32mif\u001b[0m \u001b[0misinstance\u001b[0m\u001b[0;34m(\u001b[0m\u001b[0mret\u001b[0m\u001b[0;34m,\u001b[0m \u001b[0mmu\u001b[0m\u001b[0;34m.\u001b[0m\u001b[0mndarray\u001b[0m\u001b[0;34m)\u001b[0m\u001b[0;34m:\u001b[0m\u001b[0;34m\u001b[0m\u001b[0m\n\u001b[1;32m     72\u001b[0m         ret = um.true_divide(\n",
      "\u001b[0;31mKeyboardInterrupt\u001b[0m: "
     ]
    }
   ],
   "source": [
    "m_list = [1,2,3,4,5,10,20,50]\n",
    "min_tp_list = []\n",
    "rt_list_np = np.array(rt_list)\n",
    "for m in m_list:\n",
    "    min_tp=1\n",
    "    for t in range(T-m+1):\n",
    "        for k in range(K):\n",
    "            min_tp = min(min_tp,np.mean(rt_list_np[t:t+m]))\n",
    "    min_tp_list.append(min_tp)\n"
   ]
  },
  {
   "cell_type": "code",
   "execution_count": null,
   "metadata": {
    "collapsed": true
   },
   "outputs": [],
   "source": [
    "print(min_tp_list)"
   ]
  },
  {
   "cell_type": "code",
   "execution_count": null,
   "metadata": {
    "collapsed": true
   },
   "outputs": [],
   "source": [
    "plt.figure(figsize=(7,7))\n",
    "x_axis = m_list\n",
    "y_axis = min_tp_list\n",
    "#plt.semilogx(x_axis, avg_tp)\n",
    "plt.plot(x_axis, y_axis)\n",
    "plt.xlabel(\"window length\")\n",
    "plt.ylabel(\"min window tp\")\n",
    "plt.legend([\"window tp\"])\n",
    "plt.title(\"Window TP\")\n",
    "plt.show()"
   ]
  },
  {
   "cell_type": "code",
   "execution_count": null,
   "metadata": {
    "collapsed": true
   },
   "outputs": [],
   "source": []
  }
 ],
 "metadata": {
  "kernelspec": {
   "display_name": "Python 3",
   "language": "python",
   "name": "python3"
  },
  "language_info": {
   "codemirror_mode": {
    "name": "ipython",
    "version": 3
   },
   "file_extension": ".py",
   "mimetype": "text/x-python",
   "name": "python",
   "nbconvert_exporter": "python",
   "pygments_lexer": "ipython3",
   "version": "3.6.3"
  }
 },
 "nbformat": 4,
 "nbformat_minor": 2
}
