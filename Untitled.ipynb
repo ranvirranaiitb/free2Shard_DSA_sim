{
 "cells": [
  {
   "cell_type": "code",
   "execution_count": 43,
   "metadata": {
    "collapsed": true
   },
   "outputs": [],
   "source": [
    "import numpy as np\n",
    "from scipy.special import lambertw\n",
    "import matplotlib.pyplot as plt"
   ]
  },
  {
   "cell_type": "code",
   "execution_count": 51,
   "metadata": {
    "scrolled": true
   },
   "outputs": [
    {
     "name": "stdout",
     "output_type": "stream",
     "text": [
      "10 1000000000 2.30258509299\n"
     ]
    }
   ],
   "source": [
    "T = 10000\n",
    "beta = 1\n",
    "K = []\n",
    "K.append(10)\n",
    "for i in range(18):\n",
    "    K.append(10*K[i])\n",
    "avg_tp = []\n",
    "print(K[0],K[8],np.log(K[0]))"
   ]
  },
  {
   "cell_type": "code",
   "execution_count": 52,
   "metadata": {},
   "outputs": [
    {
     "name": "stdout",
     "output_type": "stream",
     "text": [
      "10\n",
      "2.06151605308\n",
      "100\n",
      "2.2944082098\n",
      "1000\n",
      "2.7109759008\n",
      "10000\n",
      "3.17344801444\n",
      "100000\n",
      "3.63458637932\n",
      "1000000\n",
      "4.08714099259\n",
      "10000000\n",
      "4.5300888658\n",
      "100000000\n",
      "4.96399452241\n",
      "1000000000\n",
      "5.39073446236\n",
      "10000000000\n",
      "5.80878837297\n",
      "100000000000\n",
      "6.22140966023\n",
      "1000000000000\n",
      "6.62987526871\n",
      "10000000000000\n",
      "7.03441894363\n",
      "100000000000000\n",
      "7.43233381095\n",
      "1000000000000000\n",
      "7.82753711077\n",
      "10000000000000000\n",
      "8.22086931392\n",
      "100000000000000000\n",
      "8.60742630388\n",
      "1000000000000000000\n",
      "8.98929345379\n",
      "10000000000000000000\n",
      "9.37046585778\n"
     ]
    }
   ],
   "source": [
    "for k in K:\n",
    "    print(k)\n",
    "    r = np.log(k)#lambertw(k).real\n",
    "    tau = np.log(beta*k + 1)/(np.log(r))\n",
    "    TP = 0\n",
    "    L = 1/2/k\n",
    "    for t in range(T):\n",
    "        TP += L*(r**(t%tau))/(L*(r**(t%tau)) + L*(r**((t+1)%tau)))\n",
    "    print(T/TP)\n",
    "    inv_tp = T/TP\n",
    "    avg_tp.append(inv_tp)"
   ]
  },
  {
   "cell_type": "code",
   "execution_count": 53,
   "metadata": {},
   "outputs": [
    {
     "name": "stdout",
     "output_type": "stream",
     "text": [
      "[2.0615160530750116, 2.2944082098024174, 2.71097590079511, 3.1734480144401571, 3.634586379317482, 4.0871409925882949, 4.5300888658015381, 4.9639945224097239, 5.3907344623646747, 5.8087883729702474, 6.2214096602337028, 6.6298752687125679, 7.0344189436279354, 7.4323338109488706, 7.8275371107680192, 8.2208693139200868, 8.6074263038835959, 8.9892934537934206, 9.3704658577813937]\n"
     ]
    }
   ],
   "source": [
    "print(avg_tp)"
   ]
  },
  {
   "cell_type": "code",
   "execution_count": 55,
   "metadata": {},
   "outputs": [
    {
     "data": {
      "image/png": "[encoded data removed]",
      "text/plain": [
       "<Figure size 504x504 with 1 Axes>"
      ]
     },
     "metadata": {},
     "output_type": "display_data"
    }
   ],
   "source": [
    "plt.figure(figsize=(7,7))\n",
    "x_axis = [np.log(K[i])/np.log(np.log(K[i])) for i in range(19)]\n",
    "#plt.semilogx(x_axis, avg_tp)\n",
    "plt.plot(x_axis, avg_tp)\n",
    "plt.xlabel(\"log(K)/loglog(K)\")\n",
    "plt.ylabel(\"1/TP\")\n",
    "plt.legend([\"r=logK\"])\n",
    "plt.title(\"Order optimal adversarial strategy (adversary=0.5)\")\n",
    "plt.show()"
   ]
  },
  {
   "cell_type": "code",
   "execution_count": null,
   "metadata": {
    "collapsed": true
   },
   "outputs": [],
   "source": []
  }
 ],
 "metadata": {
  "kernelspec": {
   "display_name": "Python 3",
   "language": "python",
   "name": "python3"
  },
  "language_info": {
   "codemirror_mode": {
    "name": "ipython",
    "version": 3
   },
   "file_extension": ".py",
   "mimetype": "text/x-python",
   "name": "python",
   "nbconvert_exporter": "python",
   "pygments_lexer": "ipython3",
   "version": "3.6.3"
  }
 },
 "nbformat": 4,
 "nbformat_minor": 2
}
