{
 "cells": [
  {
   "cell_type": "code",
   "execution_count": 2,
   "metadata": {
    "collapsed": true
   },
   "outputs": [],
   "source": [
    "import numpy as np\n",
    "import matplotlib.pyplot as plt\n",
    "import time\n",
    "from tqdm import tqdm"
   ]
  },
  {
   "cell_type": "code",
   "execution_count": 7,
   "metadata": {
    "collapsed": true
   },
   "outputs": [],
   "source": [
    "K = 100\n",
    "N = 50\n",
    "gamma = 0.5\n",
    "n = N*gamma\n",
    "N_iter = 10000\n",
    "N_true = 0\n",
    "N_exp = 100\n",
    "min_h = 1"
   ]
  },
  {
   "cell_type": "code",
   "execution_count": 8,
   "metadata": {},
   "outputs": [
    {
     "name": "stderr",
     "output_type": "stream",
     "text": [
      "100%|██████████| 100/100 [11:35<00:00,  6.95s/it]"
     ]
    },
    {
     "name": "stdout",
     "output_type": "stream",
     "text": [
      "100\n",
      "695.2025158405304\n",
      "0.252047134176\n"
     ]
    },
    {
     "name": "stderr",
     "output_type": "stream",
     "text": [
      "\n"
     ]
    }
   ],
   "source": [
    "t1 = time.time()\n",
    "for exp in tqdm(range(N_exp)):\n",
    "    U = np.random.uniform(0,0.5,K)\n",
    "    P = U/sum(U)\n",
    "    B = P*N*(1-gamma)\n",
    "    E = 0.0\n",
    "    lhs = 0.0\n",
    "    lhs2 = 0.0\n",
    "    rhs = 0.0\n",
    "    for i in range(N_iter):\n",
    "        X = np.random.multinomial(n,P)\n",
    "        temp_lhs_sum = 0\n",
    "        temp_lhs_sum2 = 0\n",
    "        for k in range(K):\n",
    "            temp_lhs_sum += np.sqrt(X[k]*U[k])\n",
    "            temp_lhs_sum2 += U[k]*(X[k]/(X[k]+B[k]))\n",
    "        lhs_sum = temp_lhs_sum**2\n",
    "        lhs_sum2 = temp_lhs_sum2\n",
    "        E += lhs_sum\n",
    "        lhs2 += lhs_sum2\n",
    "    lhs = E/N_iter\n",
    "    lhs2 = lhs2/N_iter\n",
    "    rhs = n*sum(U)\n",
    "    N_true += (lhs>0.25*rhs)\n",
    "    min_h = min(min_h, lhs/rhs)\n",
    "    #print(lhs,rhs)\n",
    "    #print(lhs2,rhs)\n",
    "    if lhs<=rhs:\n",
    "        #print(lhs, rhs, U)\n",
    "        pass\n",
    "t2 = time.time()\n",
    "print(N_true)\n",
    "print(t2-t1)\n",
    "print(min_h)"
   ]
  },
  {
   "cell_type": "code",
   "execution_count": 52,
   "metadata": {},
   "outputs": [
    {
     "name": "stdout",
     "output_type": "stream",
     "text": [
      "[ 0.29020208  0.46395679  0.31433217  0.05720149  0.36397134  0.49784085\n",
      "  0.20925804  0.35344775  0.34901197  0.357591    0.31996956  0.46300091\n",
      "  0.01019465  0.10285142  0.26549162  0.05595768  0.03309088  0.35474387\n",
      "  0.22412444  0.21193106  0.43809632  0.26458532  0.46614665  0.2520098\n",
      "  0.47289762  0.25146697  0.41914847  0.32730692  0.0286403   0.16208831\n",
      "  0.28323646  0.34247079  0.12355281  0.31547671  0.37654283  0.16647663\n",
      "  0.44505895  0.17676148  0.2461704   0.05377429  0.00290736  0.04492205\n",
      "  0.26378898  0.21067307  0.16228918  0.39103598  0.18355606  0.42582425\n",
      "  0.11688072  0.43640289  0.44301588  0.49895458  0.41285992  0.10852789\n",
      "  0.36159442  0.39040767  0.39862716  0.37739201  0.01342697  0.22340293\n",
      "  0.40552166  0.37849359  0.44686748  0.17384009  0.27701442  0.33652261\n",
      "  0.267807    0.02155385  0.04586491  0.43202024  0.32197761  0.02307742\n",
      "  0.27836567  0.37006055  0.16531983  0.49489917  0.22913932  0.01591982\n",
      "  0.26148419  0.38735739  0.39418901  0.44427994  0.20205608  0.09231742\n",
      "  0.17149062  0.47908974  0.42828313  0.34242697  0.2190932   0.0301158\n",
      "  0.0452252   0.06363098  0.30885957  0.39196351  0.10500032  0.21642786\n",
      "  0.04182224  0.29632166  0.02242988  0.06288454]\n"
     ]
    }
   ],
   "source": [
    "print(U)"
   ]
  },
  {
   "cell_type": "code",
   "execution_count": 53,
   "metadata": {},
   "outputs": [
    {
     "name": "stdout",
     "output_type": "stream",
     "text": [
      "8.11012732794 130.337909947\n"
     ]
    }
   ],
   "source": [
    "#U = np.array([ 0.49024525 , 0.47474396 , 0.32778688 , 0.01900985,  0.191088 ,   0.16922881,\n",
    "#  0.43183688 , 0.05310867  ,0.44791282 , 0.26899114])\n",
    "#N = 1000\n",
    "#K=10\n",
    "#N_iter = 10000\n",
    "#P = U/sum(U)\n",
    "sample_vec = np.zeros(N_iter)\n",
    "E = 0\n",
    "lhs = 0.0\n",
    "rhs = 0.0\n",
    "for i in range(N_iter):\n",
    "    X = np.random.multinomial(n,P)\n",
    "    temp_lhs_sum = 0\n",
    "    for k in range(K):\n",
    "        temp_lhs_sum += np.sqrt(X[k]*U[k])\n",
    "    lhs_sum = temp_lhs_sum**2\n",
    "    sample_vec[i] = lhs_sum\n",
    "E = np.mean(sample_vec)\n",
    "var = np.var(sample_vec)\n",
    "lhs = E\n",
    "rhs = n*sum(U)\n",
    "print(lhs, rhs)"
   ]
  },
  {
   "cell_type": "code",
   "execution_count": 54,
   "metadata": {},
   "outputs": [
    {
     "name": "stdout",
     "output_type": "stream",
     "text": [
      "2.06223340956\n"
     ]
    }
   ],
   "source": [
    "#135.742162357 143.697612321\n",
    "print(var)"
   ]
  },
  {
   "cell_type": "code",
   "execution_count": 28,
   "metadata": {},
   "outputs": [
    {
     "data": {
      "text/plain": [
       "143.69761300000002"
      ]
     },
     "execution_count": 28,
     "metadata": {},
     "output_type": "execute_result"
    }
   ],
   "source": [
    "sum([ 0.49024525 , 0.47474396 , 0.32778688 , 0.01900985,  0.191088 ,   0.16922881,\n",
    "  0.43183688 , 0.05310867  ,0.44791282 , 0.26899114]) * 50"
   ]
  },
  {
   "cell_type": "code",
   "execution_count": null,
   "metadata": {
    "collapsed": true
   },
   "outputs": [],
   "source": []
  }
 ],
 "metadata": {
  "kernelspec": {
   "display_name": "Python 3",
   "language": "python",
   "name": "python3"
  },
  "language_info": {
   "codemirror_mode": {
    "name": "ipython",
    "version": 3
   },
   "file_extension": ".py",
   "mimetype": "text/x-python",
   "name": "python",
   "nbconvert_exporter": "python",
   "pygments_lexer": "ipython3",
   "version": "3.6.3"
  }
 },
 "nbformat": 4,
 "nbformat_minor": 2
}
