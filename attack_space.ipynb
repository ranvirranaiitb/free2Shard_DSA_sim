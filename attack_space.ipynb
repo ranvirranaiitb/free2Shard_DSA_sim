{
 "cells": [
  {
   "cell_type": "code",
   "execution_count": 1,
   "metadata": {
    "collapsed": true
   },
   "outputs": [],
   "source": [
    "import numpy as np\n",
    "import matplotlib.pyplot as plt"
   ]
  },
  {
   "cell_type": "code",
   "execution_count": 2,
   "metadata": {
    "collapsed": true
   },
   "outputs": [],
   "source": [
    "#2 shards x-shard(0-shard) and y-shard(1-shard)\n",
    "stat_point = [1/4,1/4]\n",
    "honest_strategy = [1/2,1/2]"
   ]
  },
  {
   "cell_type": "code",
   "execution_count": 3,
   "metadata": {
    "collapsed": true
   },
   "outputs": [],
   "source": [
    "allowable_points = []"
   ]
  },
  {
   "cell_type": "code",
   "execution_count": 4,
   "metadata": {
    "collapsed": true
   },
   "outputs": [],
   "source": [
    "for beta in np.arange(0.0,1.0,0.01):\n",
    "    allowable_points.append([honest_strategy[0]/(honest_strategy[0]+beta), honest_strategy[1]/(honest_strategy[1]+1-beta)])"
   ]
  },
  {
   "cell_type": "code",
   "execution_count": 5,
   "metadata": {},
   "outputs": [
    {
     "name": "stdout",
     "output_type": "stream",
     "text": [
      "[ 1.          0.98039216  0.96153846  0.94339623  0.92592593  0.90909091\n",
      "  0.89285714  0.87719298  0.86206897  0.84745763  0.83333333  0.81967213\n",
      "  0.80645161  0.79365079  0.78125     0.76923077  0.75757576  0.74626866\n",
      "  0.73529412  0.72463768  0.71428571  0.70422535  0.69444444  0.68493151\n",
      "  0.67567568  0.66666667  0.65789474  0.64935065  0.64102564  0.63291139\n",
      "  0.625       0.61728395  0.6097561   0.60240964  0.5952381   0.58823529\n",
      "  0.58139535  0.57471264  0.56818182  0.56179775  0.55555556  0.54945055\n",
      "  0.54347826  0.53763441  0.53191489  0.52631579  0.52083333  0.51546392\n",
      "  0.51020408  0.50505051  0.5         0.4950495   0.49019608  0.48543689\n",
      "  0.48076923  0.47619048  0.47169811  0.46728972  0.46296296  0.4587156\n",
      "  0.45454545  0.45045045  0.44642857  0.44247788  0.43859649  0.43478261\n",
      "  0.43103448  0.42735043  0.42372881  0.42016807  0.41666667  0.41322314\n",
      "  0.40983607  0.40650407  0.40322581  0.4         0.3968254   0.39370079\n",
      "  0.390625    0.3875969   0.38461538  0.38167939  0.37878788  0.37593985\n",
      "  0.37313433  0.37037037  0.36764706  0.3649635   0.36231884  0.35971223\n",
      "  0.35714286  0.35460993  0.35211268  0.34965035  0.34722222  0.34482759\n",
      "  0.34246575  0.34013605  0.33783784  0.33557047]\n"
     ]
    }
   ],
   "source": [
    "print(np.array(allowable_points)[:,0])"
   ]
  },
  {
   "cell_type": "code",
   "execution_count": 6,
   "metadata": {},
   "outputs": [
    {
     "data": {
      "image/png": "[encoded data removed]",
      "text/plain": [
       "<Figure size 504x504 with 1 Axes>"
      ]
     },
     "metadata": {},
     "output_type": "display_data"
    }
   ],
   "source": [
    "plt.figure(figsize=(7,7))\n",
    "x_axis = np.array(allowable_points)[:,0]\n",
    "y_axis = np.array(allowable_points)[:,1]\n",
    "#plt.semilogx(x_axis, avg_tp)\n",
    "plt.plot(x_axis, y_axis)\n",
    "plt.xlabel(\"log(K)/loglog(K)\")\n",
    "plt.ylabel(\"1/TP\")\n",
    "plt.legend([\"r=logK\"])\n",
    "plt.title(\"Order optimal adversarial strategy (adversary=0.5)\")\n",
    "plt.show()"
   ]
  },
  {
   "cell_type": "code",
   "execution_count": null,
   "metadata": {
    "collapsed": true
   },
   "outputs": [],
   "source": []
  }
 ],
 "metadata": {
  "kernelspec": {
   "display_name": "Python 3",
   "language": "python",
   "name": "python3"
  },
  "language_info": {
   "codemirror_mode": {
    "name": "ipython",
    "version": 3
   },
   "file_extension": ".py",
   "mimetype": "text/x-python",
   "name": "python",
   "nbconvert_exporter": "python",
   "pygments_lexer": "ipython3",
   "version": "3.6.3"
  }
 },
 "nbformat": 4,
 "nbformat_minor": 2
}
